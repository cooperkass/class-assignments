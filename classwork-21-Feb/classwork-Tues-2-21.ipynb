{
 "cells": [
  {
   "cell_type": "markdown",
   "metadata": {},
   "source": [
    "## Each row in cocoli.txt represents one specific individual (tree) and all of its related data\n",
    "## Each row in cocolisp.txt represents one unique species"
   ]
  },
  {
   "cell_type": "markdown",
   "metadata": {},
   "source": [
    "## The entry in column multi2 refers to the number of stems the plant has at 1.3 m, recorded at the second census, which would be 4 stems for this record\n",
    "## The entry in column dbh2 refers to the diameter at breast height of the largest stem of the plant at census 2, which would be 69 mm for this record\n",
    "## We can find the genus and species name of this record by noting the species code and cross-referencing to cocolisp.txt\n",
    "## The genus of this record is Calycophyllum and the species is candidissimum"
   ]
  },
  {
   "cell_type": "markdown",
   "metadata": {},
   "source": [
    "## Biologically, individual 000001 grew extensively between 1994 and 1998\n",
    "## Individual 000029 died"
   ]
  },
  {
   "cell_type": "markdown",
   "metadata": {},
   "source": [
    "## Brainstorming interesting questions\n",
    "\n",
    "### Which species of trees grew the most proportionally?\n",
    "#### ...in terms of dbh and/or number of stems?\n",
    "### Which species of trees died?\n",
    "### Which species of trees died the most?\n",
    "### Which species had the most measurement errors?\n",
    "### Which species leaned?"
   ]
  },
  {
   "cell_type": "markdown",
   "metadata": {},
   "source": [
    "## The genus that is the most species-rich in this community is Piper with 7 species\n",
    "## There are 99 genera that only have 1 species represented in this forest, and there are 127 total genera"
   ]
  },
  {
   "cell_type": "code",
   "execution_count": 3,
   "metadata": {
    "collapsed": true
   },
   "outputs": [],
   "source": [
    "## Guided Exploration of data--RGR\n",
    "\n",
    "## Build dictionaries for census period 1994-1998, with key as the individual\n",
    "## and value as the RGR\n",
    "## Calculate RGR\n",
    "\n",
    "## Use sorted to sort dictionary\n",
    "\n",
    "## Find species code in original file for individual with highest yearly\n",
    "## RGR"
   ]
  },
  {
   "cell_type": "code",
   "execution_count": null,
   "metadata": {
    "collapsed": true
   },
   "outputs": [],
   "source": []
  }
 ],
 "metadata": {
  "anaconda-cloud": {},
  "kernelspec": {
   "display_name": "Python [default]",
   "language": "python",
   "name": "python3"
  },
  "language_info": {
   "codemirror_mode": {
    "name": "ipython",
    "version": 3
   },
   "file_extension": ".py",
   "mimetype": "text/x-python",
   "name": "python",
   "nbconvert_exporter": "python",
   "pygments_lexer": "ipython3",
   "version": "3.5.2"
  }
 },
 "nbformat": 4,
 "nbformat_minor": 2
}
